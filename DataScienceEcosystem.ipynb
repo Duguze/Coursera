{
 "cells": [
  {
   "cell_type": "markdown",
   "id": "6d0313db",
   "metadata": {},
   "source": [
    "<h1> Data Science Tools and Ecosystem <h1>"
   ]
  },
  {
   "cell_type": "markdown",
   "id": "e14eaeeb",
   "metadata": {},
   "source": [
    "## In this notebook, Data Science Tools and Ecosystem are summarized."
   ]
  },
  {
   "cell_type": "markdown",
   "id": "c39e6735",
   "metadata": {},
   "source": [
    "Some of the popular languages that Data Scientists use are:\n",
    "1. Python\n",
    "2. R\n",
    "3. SQL\n",
    "4. Java\n",
    "5. C/C++\n",
    "6. Scala\n",
    "7. JavaScript"
   ]
  },
  {
   "cell_type": "markdown",
   "id": "417b0ed7",
   "metadata": {},
   "source": [
    "Some of the commonly used libraries used by Data Scientists include:\n",
    "1. NumPy\n",
    "2. Matplotlib\n",
    "3. Pandas\n",
    "4. SciKit-Learn\n",
    "5. PyTorch\n",
    "6. BeautifulSoup\n",
    "7. SciPy"
   ]
  },
  {
   "cell_type": "markdown",
   "id": "7a696143",
   "metadata": {},
   "source": [
    "|Data Science Tools|\n",
    "|------------------|\n",
    "|Rstudio           |\n",
    "|Pycharm           |\n",
    "|SAS               |\n",
    "|Apache Hadoop     |\n",
    "|MySql             |"
   ]
  },
  {
   "cell_type": "markdown",
   "id": "18402050",
   "metadata": {},
   "source": [
    "### Below are a few examples of evaluating arithmetic expressions in Python."
   ]
  },
  {
   "cell_type": "code",
   "execution_count": 4,
   "id": "41e90b2c",
   "metadata": {},
   "outputs": [
    {
     "data": {
      "text/plain": [
       "17"
      ]
     },
     "execution_count": 4,
     "metadata": {},
     "output_type": "execute_result"
    }
   ],
   "source": [
    "### This a simple arithmetic expression to mutiply then add integers.\n",
    "(3*4)+5"
   ]
  },
  {
   "cell_type": "code",
   "execution_count": 2,
   "id": "202b6ae4",
   "metadata": {},
   "outputs": [
    {
     "data": {
      "text/plain": [
       "3.3333333333333335"
      ]
     },
     "execution_count": 2,
     "metadata": {},
     "output_type": "execute_result"
    }
   ],
   "source": [
    "#This will convert 200 minutes to hours by diving by 60\n",
    "200/60"
   ]
  },
  {
   "cell_type": "markdown",
   "id": "070a9485",
   "metadata": {},
   "source": [
    "**Objectives:** List popular languages for Data Science.\n",
    "* List popular languages for Data Science\n",
    "* List commonly used libraries for Data Science\n",
    "- Create a simple markdown table\n",
    "- Illustrate simple arithmetic expressions\n",
    "- Get familar of using jupyter notebook"
   ]
  },
  {
   "cell_type": "markdown",
   "id": "53a5afc6",
   "metadata": {},
   "source": [
    "## Author\n",
    "Chris Liu"
   ]
  }
 ],
 "metadata": {
  "kernelspec": {
   "display_name": "Python 3 (ipykernel)",
   "language": "python",
   "name": "python3"
  },
  "language_info": {
   "codemirror_mode": {
    "name": "ipython",
    "version": 3
   },
   "file_extension": ".py",
   "mimetype": "text/x-python",
   "name": "python",
   "nbconvert_exporter": "python",
   "pygments_lexer": "ipython3",
   "version": "3.9.13"
  }
 },
 "nbformat": 4,
 "nbformat_minor": 5
}
